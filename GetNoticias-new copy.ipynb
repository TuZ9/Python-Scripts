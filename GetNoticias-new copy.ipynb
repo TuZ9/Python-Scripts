{
 "cells": [
  {
   "cell_type": "code",
   "execution_count": null,
   "metadata": {},
   "outputs": [],
   "source": [
    "import feedparser\n",
    "import psycopg2\n",
    "from psycopg2 import sql\n"
   ]
  },
  {
   "cell_type": "code",
   "execution_count": null,
   "metadata": {},
   "outputs": [
    {
     "name": "stdout",
     "output_type": "stream",
     "text": [
      "Buscando notícias de tecnologia...\n",
      "Nenhuma notícia encontrada.\n"
     ]
    }
   ],
   "source": [
    "\n",
    "# Configurações do RSS e banco de dados\n",
    "RSS_URL = \"https://news.google.com/rss/topics/CAAqBwgKMP-Jlwsw6sevAw?hl=pt-BR&gl=BR&ceid=BR:pt\"\n",
    "\n",
    "DB_CONFIG = {\n",
    "    'dbname': 'postgres',\n",
    "    'user': 'postgres',\n",
    "    'password': '12345678',\n",
    "    'host': 'localhost',\n",
    "    'port': 5432\n",
    "}\n",
    "\n",
    "def fetch_tech_news():\n",
    "    \"\"\"Busca notícias de tecnologia do Google News via RSS\"\"\"\n",
    "    feed = feedparser.parse(RSS_URL)\n",
    "    if 'entries' in feed:\n",
    "        return feed.entries\n",
    "    else:\n",
    "        print(\"Nenhuma notícia encontrada ou erro ao acessar o feed.\")\n",
    "        return []\n",
    "\n",
    "def save_news_to_db(news_list):\n",
    "    \"\"\"Salva a lista de notícias no banco PostgreSQL\"\"\"\n",
    "    try:\n",
    "        connection = psycopg2.connect(**DB_CONFIG)\n",
    "        cursor = connection.cursor()\n",
    "\n",
    "        for news in news_list:\n",
    "            titulo = news.get('title')\n",
    "            conteudo = news.get('summary', '')  # Resumo da notícia\n",
    "            imagem = news.get('media_content', [{}])[0].get('url') if 'media_content' in news else None\n",
    "\n",
    "            # Inserir notícia na tabela\n",
    "            query = sql.SQL(\"\"\"\n",
    "                INSERT INTO noticias (titulo, conteudo, imagem)\n",
    "                VALUES (%s, %s, %s)\n",
    "                ON CONFLICT (titulo) DO NOTHING;  -- Evita duplicatas\n",
    "            \"\"\")\n",
    "            cursor.execute(query, (titulo, conteudo, imagem))\n",
    "\n",
    "        connection.commit()\n",
    "        print(\"Notícias salvas com sucesso!\")\n",
    "    except Exception as e:\n",
    "        print(f\"Erro ao salvar no banco de dados: {e}\")\n",
    "    finally:\n",
    "        if connection:\n",
    "            cursor.close()\n",
    "            connection.close()\n",
    "\n",
    "def main():\n",
    "    \"\"\"Fluxo principal do script\"\"\"\n",
    "    print(\"Buscando notícias de tecnologia do Google News...\")\n",
    "    news_list = fetch_tech_news()\n",
    "    if news_list:\n",
    "        print(f\"{len(news_list)} notícias encontradas. Salvando no banco...\")\n",
    "        save_news_to_db(news_list)\n",
    "    else:\n",
    "        print(\"Nenhuma notícia encontrada.\")\n",
    "\n",
    "if __name__ == \"__main__\":\n",
    "    main()\n"
   ]
  }
 ],
 "metadata": {
  "kernelspec": {
   "display_name": "Python 3",
   "language": "python",
   "name": "python3"
  },
  "language_info": {
   "codemirror_mode": {
    "name": "ipython",
    "version": 3
   },
   "file_extension": ".py",
   "mimetype": "text/x-python",
   "name": "python",
   "nbconvert_exporter": "python",
   "pygments_lexer": "ipython3",
   "version": "3.12.6"
  }
 },
 "nbformat": 4,
 "nbformat_minor": 2
}
