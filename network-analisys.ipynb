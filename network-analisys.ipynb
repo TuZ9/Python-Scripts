{
 "cells": [
  {
   "cell_type": "code",
   "execution_count": 1,
   "metadata": {},
   "outputs": [
    {
     "name": "stderr",
     "output_type": "stream",
     "text": [
      "WARNING: No libpcap provider available ! pcap won't be used\n"
     ]
    }
   ],
   "source": [
    "from scapy.all import *"
   ]
  },
  {
   "cell_type": "code",
   "execution_count": null,
   "metadata": {},
   "outputs": [
    {
     "ename": "",
     "evalue": "",
     "output_type": "error",
     "traceback": [
      "\u001b[1;31mThe Kernel crashed while executing code in the current cell or a previous cell. \n",
      "\u001b[1;31mPlease review the code in the cell(s) to identify a possible cause of the failure. \n",
      "\u001b[1;31mClick <a href='https://aka.ms/vscodeJupyterKernelCrash'>here</a> for more info. \n",
      "\u001b[1;31mView Jupyter <a href='command:jupyter.viewOutput'>log</a> for further details."
     ]
    }
   ],
   "source": [
    "def capture_handshake(interface, bssid, client_mac=None):\n",
    "    \"\"\"\n",
    "    Captura pacotes de handshakes WPA2.\n",
    "    \n",
    "    :param interface: Interface de rede para monitoramento.\n",
    "    :param bssid: MAC do ponto de acesso alvo.\n",
    "    :param client_mac: MAC do cliente alvo (opcional).\n",
    "    \"\"\"\n",
    "    print(f\"[+] Iniciando captura de handshake no BSSID {bssid}\")\n",
    "    \n",
    "    def packet_handler(pkt):\n",
    "        if pkt.haslayer(Dot11Beacon) and pkt.addr2 == bssid:\n",
    "            print(f\"[+] Beacon recebido do BSSID {bssid}\")\n",
    "        elif pkt.haslayer(EAPOL):\n",
    "            print(\"[+] Pacote EAPOL detectado (possível handshake)\")\n",
    "    \n",
    "    sniff(iface=interface, prn=packet_handler, stop_filter=lambda x: x.haslayer(EAPOL), timeout=60)"
   ]
  },
  {
   "cell_type": "code",
   "execution_count": 3,
   "metadata": {},
   "outputs": [
    {
     "name": "stdout",
     "output_type": "stream",
     "text": [
      "[+] Iniciando captura de handshake no BSSID 00:11:22:33:44:55\n"
     ]
    },
    {
     "ename": "ValueError",
     "evalue": "Interface 'wlan0mon' not found !",
     "output_type": "error",
     "traceback": [
      "\u001b[31m---------------------------------------------------------------------------\u001b[39m",
      "\u001b[31mValueError\u001b[39m                                Traceback (most recent call last)",
      "\u001b[36mCell\u001b[39m\u001b[36m \u001b[39m\u001b[32mIn[3]\u001b[39m\u001b[32m, line 22\u001b[39m\n\u001b[32m     20\u001b[39m interface = \u001b[33m\"\u001b[39m\u001b[33mwlan0mon\u001b[39m\u001b[33m\"\u001b[39m  \u001b[38;5;66;03m# Certifique-se de estar em modo monitor\u001b[39;00m\n\u001b[32m     21\u001b[39m bssid = \u001b[33m\"\u001b[39m\u001b[33m00:11:22:33:44:55\u001b[39m\u001b[33m\"\u001b[39m  \u001b[38;5;66;03m# MAC do ponto de acesso\u001b[39;00m\n\u001b[32m---> \u001b[39m\u001b[32m22\u001b[39m \u001b[43mcapture_handshake\u001b[49m\u001b[43m(\u001b[49m\u001b[43minterface\u001b[49m\u001b[43m,\u001b[49m\u001b[43m \u001b[49m\u001b[43mbssid\u001b[49m\u001b[43m)\u001b[49m\n",
      "\u001b[36mCell\u001b[39m\u001b[36m \u001b[39m\u001b[32mIn[2]\u001b[39m\u001b[32m, line 17\u001b[39m, in \u001b[36mcapture_handshake\u001b[39m\u001b[34m(interface, bssid, client_mac)\u001b[39m\n\u001b[32m     14\u001b[39m     \u001b[38;5;28;01melif\u001b[39;00m pkt.haslayer(EAPOL):\n\u001b[32m     15\u001b[39m         \u001b[38;5;28mprint\u001b[39m(\u001b[33m\"\u001b[39m\u001b[33m[+] Pacote EAPOL detectado (possível handshake)\u001b[39m\u001b[33m\"\u001b[39m)\n\u001b[32m---> \u001b[39m\u001b[32m17\u001b[39m \u001b[43msniff\u001b[49m\u001b[43m(\u001b[49m\u001b[43miface\u001b[49m\u001b[43m=\u001b[49m\u001b[43minterface\u001b[49m\u001b[43m,\u001b[49m\u001b[43m \u001b[49m\u001b[43mprn\u001b[49m\u001b[43m=\u001b[49m\u001b[43mpacket_handler\u001b[49m\u001b[43m,\u001b[49m\u001b[43m \u001b[49m\u001b[43mstop_filter\u001b[49m\u001b[43m=\u001b[49m\u001b[38;5;28;43;01mlambda\u001b[39;49;00m\u001b[43m \u001b[49m\u001b[43mx\u001b[49m\u001b[43m:\u001b[49m\u001b[43m \u001b[49m\u001b[43mx\u001b[49m\u001b[43m.\u001b[49m\u001b[43mhaslayer\u001b[49m\u001b[43m(\u001b[49m\u001b[43mEAPOL\u001b[49m\u001b[43m)\u001b[49m\u001b[43m,\u001b[49m\u001b[43m \u001b[49m\u001b[43mtimeout\u001b[49m\u001b[43m=\u001b[49m\u001b[32;43m60\u001b[39;49m\u001b[43m)\u001b[49m\n",
      "\u001b[36mFile \u001b[39m\u001b[32mc:\\Users\\arthu\\AppData\\Local\\Programs\\Python\\Python313\\Lib\\site-packages\\scapy\\sendrecv.py:1424\u001b[39m, in \u001b[36msniff\u001b[39m\u001b[34m(*args, **kwargs)\u001b[39m\n\u001b[32m   1420\u001b[39m \u001b[38;5;129m@conf\u001b[39m.commands.register\n\u001b[32m   1421\u001b[39m \u001b[38;5;28;01mdef\u001b[39;00m\u001b[38;5;250m \u001b[39m\u001b[34msniff\u001b[39m(*args, **kwargs):\n\u001b[32m   1422\u001b[39m     \u001b[38;5;66;03m# type: (*Any, **Any) -> PacketList\u001b[39;00m\n\u001b[32m   1423\u001b[39m     sniffer = AsyncSniffer()\n\u001b[32m-> \u001b[39m\u001b[32m1424\u001b[39m     \u001b[43msniffer\u001b[49m\u001b[43m.\u001b[49m\u001b[43m_run\u001b[49m\u001b[43m(\u001b[49m\u001b[43m*\u001b[49m\u001b[43margs\u001b[49m\u001b[43m,\u001b[49m\u001b[43m \u001b[49m\u001b[43m*\u001b[49m\u001b[43m*\u001b[49m\u001b[43mkwargs\u001b[49m\u001b[43m)\u001b[49m\n\u001b[32m   1425\u001b[39m     \u001b[38;5;28;01mreturn\u001b[39;00m cast(PacketList, sniffer.results)\n",
      "\u001b[36mFile \u001b[39m\u001b[32mc:\\Users\\arthu\\AppData\\Local\\Programs\\Python\\Python313\\Lib\\site-packages\\scapy\\sendrecv.py:1273\u001b[39m, in \u001b[36mAsyncSniffer._run\u001b[39m\u001b[34m(self, count, store, offline, quiet, prn, lfilter, L2socket, timeout, opened_socket, stop_filter, iface, started_callback, session, chainCC, **karg)\u001b[39m\n\u001b[32m   1271\u001b[39m     \u001b[38;5;28;01melse\u001b[39;00m:\n\u001b[32m   1272\u001b[39m         iface = iface \u001b[38;5;129;01mor\u001b[39;00m conf.iface\n\u001b[32m-> \u001b[39m\u001b[32m1273\u001b[39m         sniff_sockets[\u001b[43m_RL2\u001b[49m\u001b[43m(\u001b[49m\u001b[43miface\u001b[49m\u001b[43m)\u001b[49m(\u001b[38;5;28mtype\u001b[39m=ETH_P_ALL, iface=iface,\n\u001b[32m   1274\u001b[39m                                   **karg)] = iface\n\u001b[32m   1276\u001b[39m \u001b[38;5;66;03m# Get select information from the sockets\u001b[39;00m\n\u001b[32m   1277\u001b[39m _main_socket = \u001b[38;5;28mnext\u001b[39m(\u001b[38;5;28miter\u001b[39m(sniff_sockets))\n",
      "\u001b[36mFile \u001b[39m\u001b[32mc:\\Users\\arthu\\AppData\\Local\\Programs\\Python\\Python313\\Lib\\site-packages\\scapy\\sendrecv.py:1258\u001b[39m, in \u001b[36mAsyncSniffer._run.<locals>.<lambda>\u001b[39m\u001b[34m(i)\u001b[39m\n\u001b[32m   1248\u001b[39m         sniff_sockets[PcapReader(  \u001b[38;5;66;03m# type: ignore\u001b[39;00m\n\u001b[32m   1249\u001b[39m             offline \u001b[38;5;28;01mif\u001b[39;00m flt \u001b[38;5;129;01mis\u001b[39;00m \u001b[38;5;28;01mNone\u001b[39;00m \u001b[38;5;28;01melse\u001b[39;00m\n\u001b[32m   1250\u001b[39m             tcpdump(offline,\n\u001b[32m   (...)\u001b[39m\u001b[32m   1254\u001b[39m                     quiet=quiet)\n\u001b[32m   1255\u001b[39m         )] = offline\n\u001b[32m   1256\u001b[39m \u001b[38;5;28;01mif\u001b[39;00m \u001b[38;5;129;01mnot\u001b[39;00m sniff_sockets \u001b[38;5;129;01mor\u001b[39;00m iface \u001b[38;5;129;01mis\u001b[39;00m \u001b[38;5;129;01mnot\u001b[39;00m \u001b[38;5;28;01mNone\u001b[39;00m:\n\u001b[32m   1257\u001b[39m     \u001b[38;5;66;03m# The _RL2 function resolves the L2socket of an iface\u001b[39;00m\n\u001b[32m-> \u001b[39m\u001b[32m1258\u001b[39m     _RL2 = \u001b[38;5;28;01mlambda\u001b[39;00m i: L2socket \u001b[38;5;129;01mor\u001b[39;00m \u001b[43mresolve_iface\u001b[49m\u001b[43m(\u001b[49m\u001b[43mi\u001b[49m\u001b[43m)\u001b[49m.l2listen()  \u001b[38;5;66;03m# type: Callable[[_GlobInterfaceType], Callable[..., SuperSocket]]  # noqa: E501\u001b[39;00m\n\u001b[32m   1259\u001b[39m     \u001b[38;5;28;01mif\u001b[39;00m \u001b[38;5;28misinstance\u001b[39m(iface, \u001b[38;5;28mlist\u001b[39m):\n\u001b[32m   1260\u001b[39m         sniff_sockets.update(\n\u001b[32m   1261\u001b[39m             (_RL2(ifname)(\u001b[38;5;28mtype\u001b[39m=ETH_P_ALL, iface=ifname, **karg),\n\u001b[32m   1262\u001b[39m              ifname)\n\u001b[32m   1263\u001b[39m             \u001b[38;5;28;01mfor\u001b[39;00m ifname \u001b[38;5;129;01min\u001b[39;00m iface\n\u001b[32m   1264\u001b[39m         )\n",
      "\u001b[36mFile \u001b[39m\u001b[32mc:\\Users\\arthu\\AppData\\Local\\Programs\\Python\\Python313\\Lib\\site-packages\\scapy\\interfaces.py:434\u001b[39m, in \u001b[36mresolve_iface\u001b[39m\u001b[34m(dev, retry)\u001b[39m\n\u001b[32m    432\u001b[39m \u001b[38;5;66;03m# Nothing found yet. Reload to detect if it was added recently\u001b[39;00m\n\u001b[32m    433\u001b[39m conf.ifaces.reload()\n\u001b[32m--> \u001b[39m\u001b[32m434\u001b[39m \u001b[38;5;28;01mreturn\u001b[39;00m \u001b[43mresolve_iface\u001b[49m\u001b[43m(\u001b[49m\u001b[43mdev\u001b[49m\u001b[43m,\u001b[49m\u001b[43m \u001b[49m\u001b[43mretry\u001b[49m\u001b[43m=\u001b[49m\u001b[38;5;28;43;01mFalse\u001b[39;49;00m\u001b[43m)\u001b[49m\n",
      "\u001b[36mFile \u001b[39m\u001b[32mc:\\Users\\arthu\\AppData\\Local\\Programs\\Python\\Python313\\Lib\\site-packages\\scapy\\interfaces.py:431\u001b[39m, in \u001b[36mresolve_iface\u001b[39m\u001b[34m(dev, retry)\u001b[39m\n\u001b[32m    429\u001b[39m         \u001b[38;5;28;01mpass\u001b[39;00m\n\u001b[32m    430\u001b[39m \u001b[38;5;28;01mif\u001b[39;00m \u001b[38;5;129;01mnot\u001b[39;00m retry:\n\u001b[32m--> \u001b[39m\u001b[32m431\u001b[39m     \u001b[38;5;28;01mraise\u001b[39;00m \u001b[38;5;167;01mValueError\u001b[39;00m(\u001b[33m\"\u001b[39m\u001b[33mInterface \u001b[39m\u001b[33m'\u001b[39m\u001b[38;5;132;01m%s\u001b[39;00m\u001b[33m'\u001b[39m\u001b[33m not found !\u001b[39m\u001b[33m\"\u001b[39m % dev)\n\u001b[32m    432\u001b[39m \u001b[38;5;66;03m# Nothing found yet. Reload to detect if it was added recently\u001b[39;00m\n\u001b[32m    433\u001b[39m conf.ifaces.reload()\n",
      "\u001b[31mValueError\u001b[39m: Interface 'wlan0mon' not found !"
     ]
    }
   ],
   "source": [
    "\n",
    "# def capture_handshake(interface, bssid, client_mac=None):\n",
    "#     \"\"\"\n",
    "#     Captura pacotes de handshakes WPA2.\n",
    "    \n",
    "#     :param interface: Interface de rede para monitoramento.\n",
    "#     :param bssid: MAC do ponto de acesso alvo.\n",
    "#     :param client_mac: MAC do cliente alvo (opcional).\n",
    "#     \"\"\"\n",
    "#     print(f\"[+] Iniciando captura de handshake no BSSID {bssid}\")\n",
    "    \n",
    "#     def packet_handler(pkt):\n",
    "#         if pkt.haslayer(Dot11Beacon) and pkt.addr2 == bssid:\n",
    "#             print(f\"[+] Beacon recebido do BSSID {bssid}\")\n",
    "#         elif pkt.haslayer(EAPOL):\n",
    "#             print(\"[+] Pacote EAPOL detectado (possível handshake)\")\n",
    "    \n",
    "#     sniff(iface=interface, prn=packet_handler, stop_filter=lambda x: x.haslayer(EAPOL), timeout=60)\n",
    "\n",
    "# Exemplo de uso\n",
    "interface = \"wlan0mon\"  # Certifique-se de estar em modo monitor\n",
    "bssid = \"00:11:22:33:44:55\"  # MAC do ponto de acesso\n",
    "capture_handshake(interface, bssid)"
   ]
  }
 ],
 "metadata": {
  "kernelspec": {
   "display_name": "Python 3",
   "language": "python",
   "name": "python3"
  },
  "language_info": {
   "codemirror_mode": {
    "name": "ipython",
    "version": 3
   },
   "file_extension": ".py",
   "mimetype": "text/x-python",
   "name": "python",
   "nbconvert_exporter": "python",
   "pygments_lexer": "ipython3",
   "version": "3.13.3"
  }
 },
 "nbformat": 4,
 "nbformat_minor": 2
}
