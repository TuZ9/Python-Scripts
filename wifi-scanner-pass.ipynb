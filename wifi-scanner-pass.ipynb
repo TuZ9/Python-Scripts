{
 "cells": [
  {
   "cell_type": "code",
   "execution_count": 1,
   "metadata": {},
   "outputs": [],
   "source": [
    "import subprocess\n"
   ]
  },
  {
   "cell_type": "code",
   "execution_count": 2,
   "metadata": {},
   "outputs": [
    {
     "name": "stdout",
     "output_type": "stream",
     "text": [
      "Rede: Vaz\n",
      "Senha: nollie474@\n"
     ]
    }
   ],
   "source": [
    "def get_wifi_password():\n",
    "    try:\n",
    "        # Obtém o nome da rede ativa\n",
    "        network_name = subprocess.check_output(\"netsh wlan show interfaces\", shell=True).decode(errors=\"ignore\")\n",
    "        ssid_line = [line for line in network_name.splitlines() if \"SSID\" in line and \"BSSID\" not in line]\n",
    "        ssid = ssid_line[0].split(\":\")[1].strip() if ssid_line else None\n",
    "\n",
    "        if not ssid:\n",
    "            print(\"Não foi possível encontrar a rede conectada.\")\n",
    "            return\n",
    "\n",
    "        # Obtém a senha da rede\n",
    "        command = f'netsh wlan show profile name=\"{ssid}\" key=clear'\n",
    "        profile_info = subprocess.check_output(command, shell=True).decode(errors=\"ignore\")\n",
    "        password_line = [line for line in profile_info.splitlines() if \"Key Content\" in line]\n",
    "        password = password_line[0].split(\":\")[1].strip() if password_line else \"Senha não configurada.\"\n",
    "        \n",
    "        print(f\"Rede: {ssid}\")\n",
    "        print(f\"Senha: {password}\")\n",
    "    except Exception as e:\n",
    "        print(f\"Erro ao obter a senha: {e}\")\n",
    "\n",
    "if __name__ == \"__main__\":\n",
    "    get_wifi_password()\n"
   ]
  }
 ],
 "metadata": {
  "kernelspec": {
   "display_name": "Python 3",
   "language": "python",
   "name": "python3"
  },
  "language_info": {
   "codemirror_mode": {
    "name": "ipython",
    "version": 3
   },
   "file_extension": ".py",
   "mimetype": "text/x-python",
   "name": "python",
   "nbconvert_exporter": "python",
   "pygments_lexer": "ipython3",
   "version": "3.12.6"
  }
 },
 "nbformat": 4,
 "nbformat_minor": 2
}
